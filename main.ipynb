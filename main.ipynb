{
 "cells": [
  {
   "cell_type": "code",
   "execution_count": 1,
   "metadata": {},
   "outputs": [],
   "source": [
    "###  EXTRACT DATASET     8 image per class as traing data and 2 image per class as test data\n",
    "\n",
    "import os\n",
    "import numpy as np\n",
    "import cv2\n",
    "image_name_for_training=[]\n",
    "labels_name_for_training=[]\n",
    "image_name_for_testing=[]\n",
    "labels_name_for_testing=[]\n",
    "training_image_per_class=8\n",
    "train_horses = \"ORL_dataset\" \n",
    "\n",
    "for name in os.listdir(train_horses):\n",
    "    i=0\n",
    "    data_path = os.path.join(train_horses,name)\n",
    "    for name_img in os.listdir(data_path):\n",
    "        dir_path=os.path.join(data_path,name_img)\n",
    "        if(training_image_per_class>i):\n",
    "            image_name_for_training += [dir_path]\n",
    "            labels_name_for_training+=[name]\n",
    "            i+=1\n",
    "        else:\n",
    "            image_name_for_testing += [dir_path]\n",
    "            labels_name_for_testing+=[name]"
   ]
  },
  {
   "cell_type": "code",
   "execution_count": 2,
   "metadata": {},
   "outputs": [],
   "source": [
    "### start making 2D PCA  #### it directly give eivenvector, and pca traing test data, mean\n",
    "import numpy.linalg as LA\n",
    "def eigenvector_2DPCA(list_img):\n",
    "    mean_gray=np.zeros((112,92))\n",
    "    for name_img in list_img :\n",
    "        gray=cv2.imread(name_img,0)\n",
    "        mean_gray+=gray\n",
    "    mean_gray=mean_gray/len(list_img)\n",
    "    image_matrix_for_traning=np.zeros((len(list_img),112,92))\n",
    "    scatter_matrix=np.zeros((92,92))\n",
    "    i=0\n",
    "    for name_img in list_img:\n",
    "        img_matrix=cv2.imread(name_img,0)\n",
    "        img_matrix=img_matrix-mean_gray\n",
    "        scatter_matrix+=np.matmul(img_matrix.T,img_matrix)\n",
    "        image_matrix_for_traning[i,:,:]=img_matrix\n",
    "        i+=1\n",
    "    eigen_val,eigen_vector=LA.eig(scatter_matrix)\n",
    "    sort_eigenval=np.sort(eigen_val)\n",
    "    x=np.sum(sort_eigenval[76:])/np.sum(sort_eigenval)  # this give the 95% energy \n",
    "    final_eigenvector=np.zeros((92,19))\n",
    "    i=0\n",
    "    for f in range(76,92):\n",
    "        final_eigenvalndex=np.where(eigen_val==sort_eigenval[f])[0]\n",
    "        final_eigenvector[:,i]=np.asmatrix(eigen_vector[:,final_eigenvalndex]).T  \n",
    "        i+=1  \n",
    "    pca_image_matrix_for_training = np.matmul(image_matrix_for_traning,final_eigenvector)    \n",
    "    return pca_image_matrix_for_training,final_eigenvector,mean_gray,x     "
   ]
  },
  {
   "cell_type": "code",
   "execution_count": 7,
   "metadata": {},
   "outputs": [],
   "source": [
    " ###### finding eiven value  and dimension reduce traing dta and mean\n",
    "pca_image_matrix_for_training,eigenvector,mean_training_data,x=eigenvector_2DPCA(image_name_for_training)"
   ]
  },
  {
   "cell_type": "code",
   "execution_count": 8,
   "metadata": {},
   "outputs": [],
   "source": [
    " ###### findind pca based test data ###########\n",
    "image_matrix_for_testing=np.zeros((len(image_name_for_testing),112,92))\n",
    "i=0\n",
    "for name_img in image_name_for_testing :\n",
    "    img_matrix=cv2.imread(name_img,0)\n",
    "    img_matrix=img_matrix-mean_training_data\n",
    "    image_matrix_for_testing[i,:,:]=img_matrix\n",
    "    i+=1\n",
    "pca_image_matrix_for_testing=np.matmul(image_matrix_for_testing,eigenvector)   "
   ]
  },
  {
   "cell_type": "code",
   "execution_count": 6,
   "metadata": {},
   "outputs": [],
   "source": [
    "#### fce recognition #### input is single image it will give recognige fce and corresponding labels\n",
    "def facerecognigation(img):\n",
    "    import matplotlib.pyplot as plt\n",
    "    img_matrix=cv2.imread(img,0)\n",
    "    img_matrix=img_matrix-mean_training_data\n",
    "    pca_image_matrix_for_testing=np.matmul(img_matrix,eigenvector)\n",
    "    matching_matrix=np.square(pca_image_matrix_for_training-pca_image_matrix_for_testing)\n",
    "    sum_matrix=np.sum(matching_matrix,axis=1)\n",
    "    abs_matrix=np.abs(np.sum(sum_matrix,axis=1))\n",
    "    outmax_index=np.array(np.where(abs_matrix==np.min(abs_matrix)))\n",
    "    img_matrix=cv2.imread(image_name_for_training[outmax_index[0,0]])\n",
    "    face_cascade = cv2.CascadeClassifier('haarcascade_frontalface_default.xml')\n",
    "    gray = cv2.cvtColor(img_matrix, cv2.COLOR_BGR2GRAY)\n",
    "    faces = face_cascade.detectMultiScale(gray)\n",
    "    t=labels_name_for_training[outmax_index[0,0]]\n",
    "    for (x, y, w, h) in faces:\n",
    "        cv2.rectangle(img_matrix, (x, y), (x+w, y+h), (255, 0, 0), 2)\n",
    "    cv2.imshow('label = '+str(t),img_matrix)\n",
    "    cv2.waitKey()\n",
    "    cv2.destroyAllWindows()\n",
    "    return labels_name_for_training[outmax_index[0,0]]\n",
    "    \n"
   ]
  },
  {
   "cell_type": "code",
   "execution_count": 15,
   "metadata": {},
   "outputs": [
    {
     "output_type": "execute_result",
     "data": {
      "text/plain": "'s11'"
     },
     "metadata": {},
     "execution_count": 15
    }
   ],
   "source": [
    "## for test perpose ###\n",
    "a=facerecognigation('3.pgm')\n",
    "a"
   ]
  },
  {
   "cell_type": "code",
   "execution_count": 11,
   "metadata": {},
   "outputs": [
    {
     "output_type": "execute_result",
     "data": {
      "text/plain": "8"
     },
     "metadata": {},
     "execution_count": 11
    }
   ],
   "source": [
    "#### testing the data for accuracy #############\n",
    "a=0\n",
    "for i in range(0,80):\n",
    "    matching_matrix=np.square(pca_image_matrix_for_training-pca_image_matrix_for_testing[i,:,:])\n",
    "    sum_matrix=np.sum(matching_matrix,axis=1)\n",
    "    abs_matrix=np.abs(np.sum(sum_matrix,axis=1))\n",
    "    outmax_index=np.array(np.where(abs_matrix==np.min(abs_matrix)))\n",
    "    if (labels_name_for_testing[i]==labels_name_for_training[outmax_index[0,0]]):\n",
    "        a+=1\n",
    "    else:\n",
    "        b=i    \n",
    "b\n"
   ]
  },
  {
   "cell_type": "code",
   "execution_count": 17,
   "metadata": {},
   "outputs": [
    {
     "output_type": "execute_result",
     "data": {
      "text/plain": "(159, 318, 3)"
     },
     "metadata": {},
     "execution_count": 17
    }
   ],
   "source": [
    " ###### haar cascade algorithm for face detection ########\n",
    "import cv2\n",
    "# Load the cascade\n",
    "face_cascade = cv2.CascadeClassifier('haarcascade_frontalface_default.xml')\n",
    "# Read the input image\n",
    "img = cv2.imread('test.jpg')\n",
    "# Convert into grayscale\n",
    "gray = cv2.cvtColor(img, cv2.COLOR_BGR2GRAY)\n",
    "# Detect faces\n",
    "faces = face_cascade.detectMultiScale(gray)\n",
    "# Draw rectangle around the faces\n",
    "for (x, y, w, h) in faces:\n",
    "    cv2.rectangle(img, (x, y), (x+w, y+h), (255, 0, 0), 2)\n",
    "# Display the output\n",
    "cv2.imshow('img',img)\n",
    "cv2.waitKey()\n",
    "cv2.destroyAllWindows()\n",
    "img.shape"
   ]
  },
  {
   "cell_type": "code",
   "execution_count": 1,
   "metadata": {},
   "outputs": [
    {
     "output_type": "error",
     "ename": "ModuleNotFoundError",
     "evalue": "No module named 'cv2'",
     "traceback": [
      "\u001b[1;31m---------------------------------------------------------------------------\u001b[0m",
      "\u001b[1;31mModuleNotFoundError\u001b[0m                       Traceback (most recent call last)",
      "\u001b[1;32m<ipython-input-1-c8ec22b3e787>\u001b[0m in \u001b[0;36m<module>\u001b[1;34m\u001b[0m\n\u001b[1;32m----> 1\u001b[1;33m \u001b[1;32mimport\u001b[0m \u001b[0mcv2\u001b[0m\u001b[1;33m\u001b[0m\u001b[1;33m\u001b[0m\u001b[0m\n\u001b[0m",
      "\u001b[1;31mModuleNotFoundError\u001b[0m: No module named 'cv2'"
     ]
    }
   ],
   "source": [
    "import cv2"
   ]
  },
  {
   "cell_type": "code",
   "execution_count": null,
   "metadata": {},
   "outputs": [],
   "source": []
  }
 ],
 "metadata": {
  "language_info": {
   "name": "python",
   "codemirror_mode": {
    "name": "ipython",
    "version": 3
   },
   "version": "3.8.5-final"
  },
  "orig_nbformat": 2,
  "file_extension": ".py",
  "mimetype": "text/x-python",
  "name": "python",
  "npconvert_exporter": "python",
  "pygments_lexer": "ipython3",
  "version": 3,
  "kernelspec": {
   "name": "python3",
   "display_name": "Python 3.8.5 64-bit",
   "metadata": {
    "interpreter": {
     "hash": "9ddfba760c93d0781cb88c4db9a31eb68ca4e1616821530f19d735f356a5c9ec"
    }
   }
  }
 },
 "nbformat": 4,
 "nbformat_minor": 2
}